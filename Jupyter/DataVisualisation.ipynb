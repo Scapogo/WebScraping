{
 "cells": [
  {
   "cell_type": "code",
   "execution_count": 1,
   "metadata": {
    "collapsed": false
   },
   "outputs": [],
   "source": [
    "import sys\n",
    "import pymongo\n",
    "import pandas as pd\n",
    "import matplotlib as plt\n",
    "import seaborn as sns\n",
    "\n",
    "%matplotlib inline"
   ]
  },
  {
   "cell_type": "code",
   "execution_count": 2,
   "metadata": {
    "collapsed": true
   },
   "outputs": [],
   "source": [
    "connection = pymongo.MongoClient('localhost',27017)\n",
    "db = connection.RealEstate\n",
    "adverts = db.Adverts"
   ]
  },
  {
   "cell_type": "code",
   "execution_count": 23,
   "metadata": {
    "collapsed": false
   },
   "outputs": [],
   "source": [
    "cursor = adverts.find({},{'_id':0, 'Id':1, 'Price':1, 'Location':1, 'NumberOfRooms':1, 'Age':1, 'LivingAreaM2':1})\n",
    "adverts_fields = ['id']\n",
    "df = pd.DataFrame(list(cursor), columns = adverts_fields)"
   ]
  },
  {
   "cell_type": "code",
   "execution_count": 24,
   "metadata": {
    "collapsed": false
   },
   "outputs": [
    {
     "name": "stderr",
     "output_type": "stream",
     "text": [
      "/home/scapogo/anaconda3/lib/python3.5/site-packages/ipykernel/__main__.py:10: SettingWithCopyWarning: \n",
      "A value is trying to be set on a copy of a slice from a DataFrame\n",
      "\n",
      "See the caveats in the documentation: http://pandas.pydata.org/pandas-docs/stable/indexing.html#indexing-view-versus-copy\n"
     ]
    }
   ],
   "source": [
    "df = pd.DataFrame(list(adverts.find()))\n",
    "df.fillna(0, inplace=True)\n",
    "df[['LandAreaM2', 'LivingAreaM2', 'NumberOfRooms', 'YearBuilt']] = df[['LandAreaM2', 'LivingAreaM2', 'NumberOfRooms', 'YearBuilt']].astype(int)\n",
    "\n",
    "df['LastPrice'] = 0\n",
    "for index in range(len(df['Price'])):\n",
    "    #str_price = str(df['Price'][index][0])\n",
    "    #print(\"Index: \" + str(index))\n",
    "    #str_price = str_price.replace(' ', '')\n",
    "    df['LastPrice'][index] = int(df['Price'][index][0]) # int(str_price)\n",
    "\n",
    "df['LastPrice'] = df['LastPrice'].astype(int)\n",
    "df.drop('_id', axis=1, inplace=True)"
   ]
  },
  {
   "cell_type": "code",
   "execution_count": 25,
   "metadata": {
    "collapsed": false
   },
   "outputs": [
    {
     "data": {
      "text/html": [
       "<div>\n",
       "<table border=\"1\" class=\"dataframe\">\n",
       "  <thead>\n",
       "    <tr style=\"text-align: right;\">\n",
       "      <th></th>\n",
       "      <th>Age</th>\n",
       "      <th>City</th>\n",
       "      <th>Id</th>\n",
       "      <th>LandAreaM2</th>\n",
       "      <th>LastUpdate</th>\n",
       "      <th>Link</th>\n",
       "      <th>LivingAreaM2</th>\n",
       "      <th>NumberOfRooms</th>\n",
       "      <th>Price</th>\n",
       "      <th>Street</th>\n",
       "      <th>YearBuilt</th>\n",
       "      <th>LastPrice</th>\n",
       "    </tr>\n",
       "  </thead>\n",
       "  <tbody>\n",
       "    <tr>\n",
       "      <th>0</th>\n",
       "      <td>New</td>\n",
       "      <td>Senica</td>\n",
       "      <td>2425289</td>\n",
       "      <td>0</td>\n",
       "      <td>18.12.2016</td>\n",
       "      <td>http://www.nehnutelnosti.sk/2425289/directreal...</td>\n",
       "      <td>82</td>\n",
       "      <td>3</td>\n",
       "      <td>[0]</td>\n",
       "      <td>Robotnícka</td>\n",
       "      <td>0</td>\n",
       "      <td>0</td>\n",
       "    </tr>\n",
       "    <tr>\n",
       "      <th>1</th>\n",
       "      <td>New</td>\n",
       "      <td>Senica</td>\n",
       "      <td>2609463</td>\n",
       "      <td>0</td>\n",
       "      <td>19.12.2016</td>\n",
       "      <td>http://www.nehnutelnosti.sk/2609463/nadstandar...</td>\n",
       "      <td>5</td>\n",
       "      <td>0</td>\n",
       "      <td>[1                                         ]</td>\n",
       "      <td>Robotnícka</td>\n",
       "      <td>0</td>\n",
       "      <td>1</td>\n",
       "    </tr>\n",
       "    <tr>\n",
       "      <th>2</th>\n",
       "      <td>New</td>\n",
       "      <td>Senica</td>\n",
       "      <td>2637255</td>\n",
       "      <td>1553</td>\n",
       "      <td>19.12.2016</td>\n",
       "      <td>http://www.nehnutelnosti.sk/2637255/na-predaj-...</td>\n",
       "      <td>0</td>\n",
       "      <td>0</td>\n",
       "      <td>[0]</td>\n",
       "      <td>Hurbanova</td>\n",
       "      <td>0</td>\n",
       "      <td>0</td>\n",
       "    </tr>\n",
       "    <tr>\n",
       "      <th>3</th>\n",
       "      <td>PartiallyRenewed</td>\n",
       "      <td>Senica</td>\n",
       "      <td>2653099</td>\n",
       "      <td>0</td>\n",
       "      <td>19.12.2016</td>\n",
       "      <td>http://www.nehnutelnosti.sk/2653099/3-izbovy-p...</td>\n",
       "      <td>74</td>\n",
       "      <td>3</td>\n",
       "      <td>[0]</td>\n",
       "      <td>Hviezdoslavova</td>\n",
       "      <td>2013</td>\n",
       "      <td>0</td>\n",
       "    </tr>\n",
       "    <tr>\n",
       "      <th>4</th>\n",
       "      <td>0</td>\n",
       "      <td>Senica</td>\n",
       "      <td>2608608</td>\n",
       "      <td>108</td>\n",
       "      <td>19.12.2016</td>\n",
       "      <td>http://www.nehnutelnosti.sk/2608608/pozemok-v-...</td>\n",
       "      <td>0</td>\n",
       "      <td>0</td>\n",
       "      <td>[66 000]</td>\n",
       "      <td>Železničná</td>\n",
       "      <td>0</td>\n",
       "      <td>66000</td>\n",
       "    </tr>\n",
       "  </tbody>\n",
       "</table>\n",
       "</div>"
      ],
      "text/plain": [
       "                Age    City       Id  LandAreaM2  LastUpdate  \\\n",
       "0               New  Senica  2425289           0  18.12.2016   \n",
       "1               New  Senica  2609463           0  19.12.2016   \n",
       "2               New  Senica  2637255        1553  19.12.2016   \n",
       "3  PartiallyRenewed  Senica  2653099           0  19.12.2016   \n",
       "4                 0  Senica  2608608         108  19.12.2016   \n",
       "\n",
       "                                                Link  LivingAreaM2  \\\n",
       "0  http://www.nehnutelnosti.sk/2425289/directreal...            82   \n",
       "1  http://www.nehnutelnosti.sk/2609463/nadstandar...             5   \n",
       "2  http://www.nehnutelnosti.sk/2637255/na-predaj-...             0   \n",
       "3  http://www.nehnutelnosti.sk/2653099/3-izbovy-p...            74   \n",
       "4  http://www.nehnutelnosti.sk/2608608/pozemok-v-...             0   \n",
       "\n",
       "   NumberOfRooms                                         Price  \\\n",
       "0              3                                           [0]   \n",
       "1              0  [1                                         ]   \n",
       "2              0                                           [0]   \n",
       "3              3                                           [0]   \n",
       "4              0                                      [66 000]   \n",
       "\n",
       "           Street YearBuilt  LastPrice  \n",
       "0      Robotnícka         0          0  \n",
       "1      Robotnícka         0          1  \n",
       "2       Hurbanova         0          0  \n",
       "3  Hviezdoslavova      2013          0  \n",
       "4      Železničná         0      66000  "
      ]
     },
     "execution_count": 25,
     "metadata": {},
     "output_type": "execute_result"
    }
   ],
   "source": [
    "df.head()"
   ]
  },
  {
   "cell_type": "code",
   "execution_count": 28,
   "metadata": {
    "collapsed": false
   },
   "outputs": [
    {
     "data": {
      "text/plain": [
       "Age              object\n",
       "City             object\n",
       "Id               object\n",
       "LandAreaM2        int64\n",
       "LastUpdate       object\n",
       "Link             object\n",
       "LivingAreaM2      int64\n",
       "NumberOfRooms     int64\n",
       "Price            object\n",
       "Street           object\n",
       "YearBuilt         int64\n",
       "LastPrice         int64\n",
       "dtype: object"
      ]
     },
     "execution_count": 28,
     "metadata": {},
     "output_type": "execute_result"
    }
   ],
   "source": [
    "df.dtypes"
   ]
  },
  {
   "cell_type": "code",
   "execution_count": 29,
   "metadata": {
    "collapsed": false
   },
   "outputs": [
    {
     "data": {
      "text/html": [
       "<div>\n",
       "<table border=\"1\" class=\"dataframe\">\n",
       "  <thead>\n",
       "    <tr style=\"text-align: right;\">\n",
       "      <th></th>\n",
       "      <th>LandAreaM2</th>\n",
       "      <th>LivingAreaM2</th>\n",
       "      <th>NumberOfRooms</th>\n",
       "      <th>YearBuilt</th>\n",
       "      <th>LastPrice</th>\n",
       "    </tr>\n",
       "  </thead>\n",
       "  <tbody>\n",
       "    <tr>\n",
       "      <th>count</th>\n",
       "      <td>192.000000</td>\n",
       "      <td>192.000000</td>\n",
       "      <td>192.000000</td>\n",
       "      <td>192.000000</td>\n",
       "      <td>192.000000</td>\n",
       "    </tr>\n",
       "    <tr>\n",
       "      <th>mean</th>\n",
       "      <td>837.812500</td>\n",
       "      <td>397.364583</td>\n",
       "      <td>1.187500</td>\n",
       "      <td>330.885417</td>\n",
       "      <td>69006.088542</td>\n",
       "    </tr>\n",
       "    <tr>\n",
       "      <th>std</th>\n",
       "      <td>4384.113865</td>\n",
       "      <td>2436.032140</td>\n",
       "      <td>1.409114</td>\n",
       "      <td>741.903444</td>\n",
       "      <td>92173.454387</td>\n",
       "    </tr>\n",
       "    <tr>\n",
       "      <th>min</th>\n",
       "      <td>0.000000</td>\n",
       "      <td>0.000000</td>\n",
       "      <td>0.000000</td>\n",
       "      <td>0.000000</td>\n",
       "      <td>0.000000</td>\n",
       "    </tr>\n",
       "    <tr>\n",
       "      <th>25%</th>\n",
       "      <td>0.000000</td>\n",
       "      <td>19.500000</td>\n",
       "      <td>0.000000</td>\n",
       "      <td>0.000000</td>\n",
       "      <td>28750.000000</td>\n",
       "    </tr>\n",
       "    <tr>\n",
       "      <th>50%</th>\n",
       "      <td>0.000000</td>\n",
       "      <td>67.500000</td>\n",
       "      <td>0.000000</td>\n",
       "      <td>0.000000</td>\n",
       "      <td>53300.000000</td>\n",
       "    </tr>\n",
       "    <tr>\n",
       "      <th>75%</th>\n",
       "      <td>304.750000</td>\n",
       "      <td>110.500000</td>\n",
       "      <td>3.000000</td>\n",
       "      <td>0.000000</td>\n",
       "      <td>75755.750000</td>\n",
       "    </tr>\n",
       "    <tr>\n",
       "      <th>max</th>\n",
       "      <td>34966.000000</td>\n",
       "      <td>32280.000000</td>\n",
       "      <td>5.000000</td>\n",
       "      <td>2016.000000</td>\n",
       "      <td>811200.000000</td>\n",
       "    </tr>\n",
       "  </tbody>\n",
       "</table>\n",
       "</div>"
      ],
      "text/plain": [
       "         LandAreaM2  LivingAreaM2  NumberOfRooms    YearBuilt      LastPrice\n",
       "count    192.000000    192.000000     192.000000   192.000000     192.000000\n",
       "mean     837.812500    397.364583       1.187500   330.885417   69006.088542\n",
       "std     4384.113865   2436.032140       1.409114   741.903444   92173.454387\n",
       "min        0.000000      0.000000       0.000000     0.000000       0.000000\n",
       "25%        0.000000     19.500000       0.000000     0.000000   28750.000000\n",
       "50%        0.000000     67.500000       0.000000     0.000000   53300.000000\n",
       "75%      304.750000    110.500000       3.000000     0.000000   75755.750000\n",
       "max    34966.000000  32280.000000       5.000000  2016.000000  811200.000000"
      ]
     },
     "execution_count": 29,
     "metadata": {},
     "output_type": "execute_result"
    }
   ],
   "source": [
    "df[df['City']=='Senica'].describe()"
   ]
  },
  {
   "cell_type": "code",
   "execution_count": 11,
   "metadata": {
    "collapsed": false
   },
   "outputs": [
    {
     "data": {
      "text/plain": [
       "<matplotlib.axes._subplots.AxesSubplot at 0x7fd2ac48fa58>"
      ]
     },
     "execution_count": 11,
     "metadata": {},
     "output_type": "execute_result"
    },
    {
     "data": {
      "image/png": "[encoded data removed]",
      "text/plain": [
       "<matplotlib.figure.Figure at 0x7fd2ac43c390>"
      ]
     },
     "metadata": {},
     "output_type": "display_data"
    }
   ],
   "source": [
    "sns.regplot('LivingAreaM2', 'LastPrice', df[(df['NumberOfRooms']>0) & (df['LivingAreaM2']>0) & (df['LastPrice']>0)])"
   ]
  },
  {
   "cell_type": "code",
   "execution_count": 31,
   "metadata": {
    "collapsed": false
   },
   "outputs": [
    {
     "data": {
      "text/plain": [
       "<seaborn.axisgrid.FacetGrid at 0x7fd2a5567860>"
      ]
     },
     "execution_count": 31,
     "metadata": {},
     "output_type": "execute_result"
    },
    {
     "data": {
      "image/png": "[encoded data removed]",
      "text/plain": [
       "<matplotlib.figure.Figure at 0x7fd2a55672b0>"
      ]
     },
     "metadata": {},
     "output_type": "display_data"
    }
   ],
   "source": [
    "sns.lmplot('LivingAreaM2', 'LastPrice', hue='City', data=df[(df['NumberOfRooms']>0) & (df['LivingAreaM2']>0) & (df['LastPrice']>0)])"
   ]
  },
  {
   "cell_type": "code",
   "execution_count": 33,
   "metadata": {
    "collapsed": false
   },
   "outputs": [
    {
     "data": {
      "text/plain": [
       "<seaborn.axisgrid.PairGrid at 0x7fd2a5760dd8>"
      ]
     },
     "execution_count": 33,
     "metadata": {},
     "output_type": "execute_result"
    },
    {
     "data": {
      "image/png": "[encoded data removed]",
      "text/plain": [
       "<matplotlib.figure.Figure at 0x7fd2a5760ac8>"
      ]
     },
     "metadata": {},
     "output_type": "display_data"
    }
   ],
   "source": [
    "sns.pairplot(df[df['NumberOfRooms']>0][['Price', 'LivingAreaM2', 'NumberOfRooms', 'LastPrice']])"
   ]
  },
  {
   "cell_type": "code",
   "execution_count": 83,
   "metadata": {
    "collapsed": false
   },
   "outputs": [
    {
     "data": {
      "text/html": [
       "<div>\n",
       "<table border=\"1\" class=\"dataframe\">\n",
       "  <thead>\n",
       "    <tr style=\"text-align: right;\">\n",
       "      <th></th>\n",
       "      <th>Age</th>\n",
       "      <th>City</th>\n",
       "      <th>Id</th>\n",
       "      <th>LandAreaM2</th>\n",
       "      <th>LastUpdate</th>\n",
       "      <th>Link</th>\n",
       "      <th>LivingAreaM2</th>\n",
       "      <th>NumberOfRooms</th>\n",
       "      <th>Price</th>\n",
       "      <th>Street</th>\n",
       "      <th>_id</th>\n",
       "      <th>LastPrice</th>\n",
       "    </tr>\n",
       "  </thead>\n",
       "  <tbody>\n",
       "    <tr>\n",
       "      <th>7</th>\n",
       "      <td>New</td>\n",
       "      <td>Senica</td>\n",
       "      <td>2644435</td>\n",
       "      <td>0</td>\n",
       "      <td>18.12.2016</td>\n",
       "      <td>http://www.nehnutelnosti.sk/2644435/1-izbovy-b...</td>\n",
       "      <td>0</td>\n",
       "      <td>1</td>\n",
       "      <td>[40 635]</td>\n",
       "      <td>Robotnícka</td>\n",
       "      <td>5856c9391d41c812d959e711</td>\n",
       "      <td>40635</td>\n",
       "    </tr>\n",
       "    <tr>\n",
       "      <th>165</th>\n",
       "      <td>CompletelyRenewed</td>\n",
       "      <td>Senica</td>\n",
       "      <td>2543486</td>\n",
       "      <td>0</td>\n",
       "      <td>19.09.2016</td>\n",
       "      <td>http://www.nehnutelnosti.sk/2543486/byt-3-1-so...</td>\n",
       "      <td>0</td>\n",
       "      <td>3</td>\n",
       "      <td>[65 000]</td>\n",
       "      <td>Sotiná</td>\n",
       "      <td>5856c9d01d41c8130782f44e</td>\n",
       "      <td>0</td>\n",
       "    </tr>\n",
       "    <tr>\n",
       "      <th>171</th>\n",
       "      <td>Old</td>\n",
       "      <td>Senica</td>\n",
       "      <td>2577641</td>\n",
       "      <td>0</td>\n",
       "      <td>27.09.2016</td>\n",
       "      <td>http://www.nehnutelnosti.sk/2577641/senica-cen...</td>\n",
       "      <td>0</td>\n",
       "      <td>4</td>\n",
       "      <td>[54 600]</td>\n",
       "      <td>0</td>\n",
       "      <td>5856c9d01d41c8130782f454</td>\n",
       "      <td>0</td>\n",
       "    </tr>\n",
       "    <tr>\n",
       "      <th>174</th>\n",
       "      <td>PartiallyRenewed</td>\n",
       "      <td>Senica</td>\n",
       "      <td>2585423</td>\n",
       "      <td>0</td>\n",
       "      <td>04.10.2016</td>\n",
       "      <td>http://www.nehnutelnosti.sk/2585423/pekny-zrek...</td>\n",
       "      <td>0</td>\n",
       "      <td>3</td>\n",
       "      <td>[64 900]</td>\n",
       "      <td>Sotiná</td>\n",
       "      <td>5856c9d01d41c8130782f457</td>\n",
       "      <td>0</td>\n",
       "    </tr>\n",
       "  </tbody>\n",
       "</table>\n",
       "</div>"
      ],
      "text/plain": [
       "                   Age    City       Id  LandAreaM2  LastUpdate  \\\n",
       "7                  New  Senica  2644435           0  18.12.2016   \n",
       "165  CompletelyRenewed  Senica  2543486           0  19.09.2016   \n",
       "171                Old  Senica  2577641           0  27.09.2016   \n",
       "174   PartiallyRenewed  Senica  2585423           0  04.10.2016   \n",
       "\n",
       "                                                  Link  LivingAreaM2  \\\n",
       "7    http://www.nehnutelnosti.sk/2644435/1-izbovy-b...             0   \n",
       "165  http://www.nehnutelnosti.sk/2543486/byt-3-1-so...             0   \n",
       "171  http://www.nehnutelnosti.sk/2577641/senica-cen...             0   \n",
       "174  http://www.nehnutelnosti.sk/2585423/pekny-zrek...             0   \n",
       "\n",
       "     NumberOfRooms     Price      Street                       _id  LastPrice  \n",
       "7                1  [40 635]  Robotnícka  5856c9391d41c812d959e711      40635  \n",
       "165              3  [65 000]      Sotiná  5856c9d01d41c8130782f44e          0  \n",
       "171              4  [54 600]           0  5856c9d01d41c8130782f454          0  \n",
       "174              3  [64 900]      Sotiná  5856c9d01d41c8130782f457          0  "
      ]
     },
     "execution_count": 83,
     "metadata": {},
     "output_type": "execute_result"
    }
   ],
   "source": [
    "df[(df['LivingAreaM2']==0) & (df['NumberOfRooms']>0)]"
   ]
  },
  {
   "cell_type": "code",
   "execution_count": 113,
   "metadata": {
    "collapsed": false
   },
   "outputs": [],
   "source": [
    "df = df[df['LastPrice']!=0]"
   ]
  },
  {
   "cell_type": "code",
   "execution_count": 112,
   "metadata": {
    "collapsed": false
   },
   "outputs": [
    {
     "data": {
      "text/html": [
       "<div>\n",
       "<table border=\"1\" class=\"dataframe\">\n",
       "  <thead>\n",
       "    <tr style=\"text-align: right;\">\n",
       "      <th></th>\n",
       "      <th>Age</th>\n",
       "      <th>City</th>\n",
       "      <th>Id</th>\n",
       "      <th>LandAreaM2</th>\n",
       "      <th>LastUpdate</th>\n",
       "      <th>Link</th>\n",
       "      <th>LivingAreaM2</th>\n",
       "      <th>NumberOfRooms</th>\n",
       "      <th>Price</th>\n",
       "      <th>Street</th>\n",
       "      <th>_id</th>\n",
       "      <th>LastPrice</th>\n",
       "    </tr>\n",
       "  </thead>\n",
       "  <tbody>\n",
       "  </tbody>\n",
       "</table>\n",
       "</div>"
      ],
      "text/plain": [
       "Empty DataFrame\n",
       "Columns: [Age, City, Id, LandAreaM2, LastUpdate, Link, LivingAreaM2, NumberOfRooms, Price, Street, _id, LastPrice]\n",
       "Index: []"
      ]
     },
     "execution_count": 112,
     "metadata": {},
     "output_type": "execute_result"
    }
   ],
   "source": [
    "df_new[df_new['LastPrice']==0]"
   ]
  },
  {
   "cell_type": "code",
   "execution_count": null,
   "metadata": {
    "collapsed": true
   },
   "outputs": [],
   "source": []
  }
 ],
 "metadata": {
  "kernelspec": {
   "display_name": "Python 3",
   "language": "python",
   "name": "python3"
  },
  "language_info": {
   "codemirror_mode": {
    "name": "ipython",
    "version": 3
   },
   "file_extension": ".py",
   "mimetype": "text/x-python",
   "name": "python",
   "nbconvert_exporter": "python",
   "pygments_lexer": "ipython3",
   "version": "3.5.1"
  }
 },
 "nbformat": 4,
 "nbformat_minor": 0
}
