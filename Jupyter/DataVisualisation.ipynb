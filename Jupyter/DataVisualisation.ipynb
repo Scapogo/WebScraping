{
 "cells": [
  {
   "cell_type": "code",
   "execution_count": 2,
   "metadata": {
    "collapsed": false
   },
   "outputs": [],
   "source": [
    "import sys\n",
    "import pymongo\n",
    "import pandas as pd\n",
    "import matplotlib as plt\n",
    "import seaborn as sns\n",
    "\n",
    "%matplotlib inline"
   ]
  },
  {
   "cell_type": "code",
   "execution_count": 76,
   "metadata": {
    "collapsed": true
   },
   "outputs": [],
   "source": [
    "connection = pymongo.MongoClient('localhost',27017)\n",
    "db = connection.RealEstate\n",
    "adverts = db.Adverts"
   ]
  },
  {
   "cell_type": "code",
   "execution_count": 77,
   "metadata": {
    "collapsed": false
   },
   "outputs": [],
   "source": [
    "cursor = adverts.find({},{'_id':0, 'Id':1, 'Price':1, 'Location':1, 'NumberOfRooms':1, 'Age':1, 'LivingAreaM2':1})\n",
    "adverts_fields = ['id']\n",
    "df = pd.DataFrame(list(cursor), columns = adverts_fields)"
   ]
  },
  {
   "cell_type": "code",
   "execution_count": 104,
   "metadata": {
    "collapsed": false
   },
   "outputs": [
    {
     "name": "stderr",
     "output_type": "stream",
     "text": [
      "/home/scapogo/anaconda3/lib/python3.5/site-packages/ipykernel/__main__.py:10: SettingWithCopyWarning: \n",
      "A value is trying to be set on a copy of a slice from a DataFrame\n",
      "\n",
      "See the caveats in the documentation: http://pandas.pydata.org/pandas-docs/stable/indexing.html#indexing-view-versus-copy\n"
     ]
    }
   ],
   "source": [
    "df = pd.DataFrame(list(adverts.find()))\n",
    "df.fillna(0, inplace=True)\n",
    "df[['LandAreaM2', 'LivingAreaM2', 'NumberOfRooms']] = df[['LandAreaM2', 'LivingAreaM2', 'NumberOfRooms']].astype(int)\n",
    "\n",
    "df['LastPrice'] = 0\n",
    "for index in range(len(df['Price'])):\n",
    "    str_price = str(df['Price'][index][0])\n",
    "    #print(\"Index: \" + str(index))\n",
    "    str_price = str_price.replace(' ', '')\n",
    "    df['LastPrice'][index] = int(str_price)\n",
    "\n",
    "df['LastPrice'] = df['LastPrice'].astype(int)"
   ]
  },
  {
   "cell_type": "code",
   "execution_count": 92,
   "metadata": {
    "collapsed": false
   },
   "outputs": [
    {
     "data": {
      "text/html": [
       "<div>\n",
       "<table border=\"1\" class=\"dataframe\">\n",
       "  <thead>\n",
       "    <tr style=\"text-align: right;\">\n",
       "      <th></th>\n",
       "      <th>Age</th>\n",
       "      <th>City</th>\n",
       "      <th>Id</th>\n",
       "      <th>LandAreaM2</th>\n",
       "      <th>LastUpdate</th>\n",
       "      <th>Link</th>\n",
       "      <th>LivingAreaM2</th>\n",
       "      <th>NumberOfRooms</th>\n",
       "      <th>Price</th>\n",
       "      <th>Street</th>\n",
       "      <th>_id</th>\n",
       "      <th>LastPrice</th>\n",
       "    </tr>\n",
       "  </thead>\n",
       "  <tbody>\n",
       "    <tr>\n",
       "      <th>0</th>\n",
       "      <td>Old</td>\n",
       "      <td>Senica</td>\n",
       "      <td>2243252</td>\n",
       "      <td>0</td>\n",
       "      <td>16.12.2016</td>\n",
       "      <td>http://www.nehnutelnosti.sk/2243252/zlava-5000...</td>\n",
       "      <td>90</td>\n",
       "      <td>0</td>\n",
       "      <td>[55 000]</td>\n",
       "      <td>0</td>\n",
       "      <td>5856c9391d41c812d959e70a</td>\n",
       "      <td>55000</td>\n",
       "    </tr>\n",
       "    <tr>\n",
       "      <th>1</th>\n",
       "      <td>CompletelyRenewed</td>\n",
       "      <td>Senica</td>\n",
       "      <td>2627679</td>\n",
       "      <td>0</td>\n",
       "      <td>16.12.2016</td>\n",
       "      <td>http://www.nehnutelnosti.sk/2627679/na-predaj-...</td>\n",
       "      <td>66</td>\n",
       "      <td>2</td>\n",
       "      <td>[56 500]</td>\n",
       "      <td>0</td>\n",
       "      <td>5856c9391d41c812d959e70b</td>\n",
       "      <td>56500</td>\n",
       "    </tr>\n",
       "    <tr>\n",
       "      <th>2</th>\n",
       "      <td>Old</td>\n",
       "      <td>Senica</td>\n",
       "      <td>2383041</td>\n",
       "      <td>1634</td>\n",
       "      <td>18.12.2016</td>\n",
       "      <td>http://www.nehnutelnosti.sk/2383041/na-predaj-...</td>\n",
       "      <td>225</td>\n",
       "      <td>0</td>\n",
       "      <td>[80 000]</td>\n",
       "      <td>Čáčovská cesta 287</td>\n",
       "      <td>5856c9391d41c812d959e70c</td>\n",
       "      <td>80000</td>\n",
       "    </tr>\n",
       "    <tr>\n",
       "      <th>3</th>\n",
       "      <td>Old</td>\n",
       "      <td>Senica</td>\n",
       "      <td>2660987</td>\n",
       "      <td>675</td>\n",
       "      <td>18.12.2016</td>\n",
       "      <td>http://www.nehnutelnosti.sk/2660987/rodinny-do...</td>\n",
       "      <td>985</td>\n",
       "      <td>0</td>\n",
       "      <td>[50 000]</td>\n",
       "      <td>Železničná 355/136</td>\n",
       "      <td>5856c9391d41c812d959e70d</td>\n",
       "      <td>50000</td>\n",
       "    </tr>\n",
       "    <tr>\n",
       "      <th>4</th>\n",
       "      <td>Old</td>\n",
       "      <td>Senica</td>\n",
       "      <td>1327449</td>\n",
       "      <td>30</td>\n",
       "      <td>18.12.2016</td>\n",
       "      <td>http://www.nehnutelnosti.sk/1327449/2-garaze-s...</td>\n",
       "      <td>30</td>\n",
       "      <td>0</td>\n",
       "      <td>[27 000]</td>\n",
       "      <td>Čáčov</td>\n",
       "      <td>5856c9391d41c812d959e70e</td>\n",
       "      <td>27000</td>\n",
       "    </tr>\n",
       "  </tbody>\n",
       "</table>\n",
       "</div>"
      ],
      "text/plain": [
       "                 Age    City       Id  LandAreaM2  LastUpdate  \\\n",
       "0                Old  Senica  2243252           0  16.12.2016   \n",
       "1  CompletelyRenewed  Senica  2627679           0  16.12.2016   \n",
       "2                Old  Senica  2383041        1634  18.12.2016   \n",
       "3                Old  Senica  2660987         675  18.12.2016   \n",
       "4                Old  Senica  1327449          30  18.12.2016   \n",
       "\n",
       "                                                Link  LivingAreaM2  \\\n",
       "0  http://www.nehnutelnosti.sk/2243252/zlava-5000...            90   \n",
       "1  http://www.nehnutelnosti.sk/2627679/na-predaj-...            66   \n",
       "2  http://www.nehnutelnosti.sk/2383041/na-predaj-...           225   \n",
       "3  http://www.nehnutelnosti.sk/2660987/rodinny-do...           985   \n",
       "4  http://www.nehnutelnosti.sk/1327449/2-garaze-s...            30   \n",
       "\n",
       "   NumberOfRooms     Price              Street                       _id  \\\n",
       "0              0  [55 000]                   0  5856c9391d41c812d959e70a   \n",
       "1              2  [56 500]                   0  5856c9391d41c812d959e70b   \n",
       "2              0  [80 000]  Čáčovská cesta 287  5856c9391d41c812d959e70c   \n",
       "3              0  [50 000]  Železničná 355/136  5856c9391d41c812d959e70d   \n",
       "4              0  [27 000]               Čáčov  5856c9391d41c812d959e70e   \n",
       "\n",
       "   LastPrice  \n",
       "0      55000  \n",
       "1      56500  \n",
       "2      80000  \n",
       "3      50000  \n",
       "4      27000  "
      ]
     },
     "execution_count": 92,
     "metadata": {},
     "output_type": "execute_result"
    }
   ],
   "source": [
    "df.head()"
   ]
  },
  {
   "cell_type": "code",
   "execution_count": 93,
   "metadata": {
    "collapsed": false
   },
   "outputs": [
    {
     "data": {
      "text/plain": [
       "Age              object\n",
       "City             object\n",
       "Id               object\n",
       "LandAreaM2        int64\n",
       "LastUpdate       object\n",
       "Link             object\n",
       "LivingAreaM2      int64\n",
       "NumberOfRooms     int64\n",
       "Price            object\n",
       "Street           object\n",
       "_id              object\n",
       "LastPrice         int64\n",
       "dtype: object"
      ]
     },
     "execution_count": 93,
     "metadata": {},
     "output_type": "execute_result"
    }
   ],
   "source": [
    "df.dtypes"
   ]
  },
  {
   "cell_type": "code",
   "execution_count": 94,
   "metadata": {
    "collapsed": false
   },
   "outputs": [
    {
     "data": {
      "text/html": [
       "<div>\n",
       "<table border=\"1\" class=\"dataframe\">\n",
       "  <thead>\n",
       "    <tr style=\"text-align: right;\">\n",
       "      <th></th>\n",
       "      <th>LandAreaM2</th>\n",
       "      <th>LivingAreaM2</th>\n",
       "      <th>NumberOfRooms</th>\n",
       "      <th>LastPrice</th>\n",
       "    </tr>\n",
       "  </thead>\n",
       "  <tbody>\n",
       "    <tr>\n",
       "      <th>count</th>\n",
       "      <td>193.000000</td>\n",
       "      <td>193.000000</td>\n",
       "      <td>193.000000</td>\n",
       "      <td>193.000000</td>\n",
       "    </tr>\n",
       "    <tr>\n",
       "      <th>mean</th>\n",
       "      <td>833.471503</td>\n",
       "      <td>395.461140</td>\n",
       "      <td>1.170984</td>\n",
       "      <td>68964.606218</td>\n",
       "    </tr>\n",
       "    <tr>\n",
       "      <th>std</th>\n",
       "      <td>4373.097848</td>\n",
       "      <td>2429.823165</td>\n",
       "      <td>1.424045</td>\n",
       "      <td>91934.912235</td>\n",
       "    </tr>\n",
       "    <tr>\n",
       "      <th>min</th>\n",
       "      <td>0.000000</td>\n",
       "      <td>0.000000</td>\n",
       "      <td>0.000000</td>\n",
       "      <td>0.000000</td>\n",
       "    </tr>\n",
       "    <tr>\n",
       "      <th>25%</th>\n",
       "      <td>0.000000</td>\n",
       "      <td>20.000000</td>\n",
       "      <td>0.000000</td>\n",
       "      <td>29000.000000</td>\n",
       "    </tr>\n",
       "    <tr>\n",
       "      <th>50%</th>\n",
       "      <td>0.000000</td>\n",
       "      <td>67.000000</td>\n",
       "      <td>0.000000</td>\n",
       "      <td>54600.000000</td>\n",
       "    </tr>\n",
       "    <tr>\n",
       "      <th>75%</th>\n",
       "      <td>301.000000</td>\n",
       "      <td>109.000000</td>\n",
       "      <td>3.000000</td>\n",
       "      <td>75000.000000</td>\n",
       "    </tr>\n",
       "    <tr>\n",
       "      <th>max</th>\n",
       "      <td>34966.000000</td>\n",
       "      <td>32280.000000</td>\n",
       "      <td>5.000000</td>\n",
       "      <td>811200.000000</td>\n",
       "    </tr>\n",
       "  </tbody>\n",
       "</table>\n",
       "</div>"
      ],
      "text/plain": [
       "         LandAreaM2  LivingAreaM2  NumberOfRooms      LastPrice\n",
       "count    193.000000    193.000000     193.000000     193.000000\n",
       "mean     833.471503    395.461140       1.170984   68964.606218\n",
       "std     4373.097848   2429.823165       1.424045   91934.912235\n",
       "min        0.000000      0.000000       0.000000       0.000000\n",
       "25%        0.000000     20.000000       0.000000   29000.000000\n",
       "50%        0.000000     67.000000       0.000000   54600.000000\n",
       "75%      301.000000    109.000000       3.000000   75000.000000\n",
       "max    34966.000000  32280.000000       5.000000  811200.000000"
      ]
     },
     "execution_count": 94,
     "metadata": {},
     "output_type": "execute_result"
    }
   ],
   "source": [
    "df.describe()"
   ]
  },
  {
   "cell_type": "code",
   "execution_count": 114,
   "metadata": {
    "collapsed": false
   },
   "outputs": [
    {
     "data": {
      "text/plain": [
       "<matplotlib.axes._subplots.AxesSubplot at 0x7f13b0adaa20>"
      ]
     },
     "execution_count": 114,
     "metadata": {},
     "output_type": "execute_result"
    },
    {
     "data": {
      "image/png": "[encoded data removed]",
      "text/plain": [
       "<matplotlib.figure.Figure at 0x7f13b0ae09b0>"
      ]
     },
     "metadata": {},
     "output_type": "display_data"
    }
   ],
   "source": [
    "sns.regplot('LivingAreaM2', 'LastPrice', df[(df['NumberOfRooms']>0) & (df['LivingAreaM2']>0)])"
   ]
  },
  {
   "cell_type": "code",
   "execution_count": 83,
   "metadata": {
    "collapsed": false
   },
   "outputs": [
    {
     "data": {
      "text/html": [
       "<div>\n",
       "<table border=\"1\" class=\"dataframe\">\n",
       "  <thead>\n",
       "    <tr style=\"text-align: right;\">\n",
       "      <th></th>\n",
       "      <th>Age</th>\n",
       "      <th>City</th>\n",
       "      <th>Id</th>\n",
       "      <th>LandAreaM2</th>\n",
       "      <th>LastUpdate</th>\n",
       "      <th>Link</th>\n",
       "      <th>LivingAreaM2</th>\n",
       "      <th>NumberOfRooms</th>\n",
       "      <th>Price</th>\n",
       "      <th>Street</th>\n",
       "      <th>_id</th>\n",
       "      <th>LastPrice</th>\n",
       "    </tr>\n",
       "  </thead>\n",
       "  <tbody>\n",
       "    <tr>\n",
       "      <th>7</th>\n",
       "      <td>New</td>\n",
       "      <td>Senica</td>\n",
       "      <td>2644435</td>\n",
       "      <td>0</td>\n",
       "      <td>18.12.2016</td>\n",
       "      <td>http://www.nehnutelnosti.sk/2644435/1-izbovy-b...</td>\n",
       "      <td>0</td>\n",
       "      <td>1</td>\n",
       "      <td>[40 635]</td>\n",
       "      <td>Robotnícka</td>\n",
       "      <td>5856c9391d41c812d959e711</td>\n",
       "      <td>40635</td>\n",
       "    </tr>\n",
       "    <tr>\n",
       "      <th>165</th>\n",
       "      <td>CompletelyRenewed</td>\n",
       "      <td>Senica</td>\n",
       "      <td>2543486</td>\n",
       "      <td>0</td>\n",
       "      <td>19.09.2016</td>\n",
       "      <td>http://www.nehnutelnosti.sk/2543486/byt-3-1-so...</td>\n",
       "      <td>0</td>\n",
       "      <td>3</td>\n",
       "      <td>[65 000]</td>\n",
       "      <td>Sotiná</td>\n",
       "      <td>5856c9d01d41c8130782f44e</td>\n",
       "      <td>0</td>\n",
       "    </tr>\n",
       "    <tr>\n",
       "      <th>171</th>\n",
       "      <td>Old</td>\n",
       "      <td>Senica</td>\n",
       "      <td>2577641</td>\n",
       "      <td>0</td>\n",
       "      <td>27.09.2016</td>\n",
       "      <td>http://www.nehnutelnosti.sk/2577641/senica-cen...</td>\n",
       "      <td>0</td>\n",
       "      <td>4</td>\n",
       "      <td>[54 600]</td>\n",
       "      <td>0</td>\n",
       "      <td>5856c9d01d41c8130782f454</td>\n",
       "      <td>0</td>\n",
       "    </tr>\n",
       "    <tr>\n",
       "      <th>174</th>\n",
       "      <td>PartiallyRenewed</td>\n",
       "      <td>Senica</td>\n",
       "      <td>2585423</td>\n",
       "      <td>0</td>\n",
       "      <td>04.10.2016</td>\n",
       "      <td>http://www.nehnutelnosti.sk/2585423/pekny-zrek...</td>\n",
       "      <td>0</td>\n",
       "      <td>3</td>\n",
       "      <td>[64 900]</td>\n",
       "      <td>Sotiná</td>\n",
       "      <td>5856c9d01d41c8130782f457</td>\n",
       "      <td>0</td>\n",
       "    </tr>\n",
       "  </tbody>\n",
       "</table>\n",
       "</div>"
      ],
      "text/plain": [
       "                   Age    City       Id  LandAreaM2  LastUpdate  \\\n",
       "7                  New  Senica  2644435           0  18.12.2016   \n",
       "165  CompletelyRenewed  Senica  2543486           0  19.09.2016   \n",
       "171                Old  Senica  2577641           0  27.09.2016   \n",
       "174   PartiallyRenewed  Senica  2585423           0  04.10.2016   \n",
       "\n",
       "                                                  Link  LivingAreaM2  \\\n",
       "7    http://www.nehnutelnosti.sk/2644435/1-izbovy-b...             0   \n",
       "165  http://www.nehnutelnosti.sk/2543486/byt-3-1-so...             0   \n",
       "171  http://www.nehnutelnosti.sk/2577641/senica-cen...             0   \n",
       "174  http://www.nehnutelnosti.sk/2585423/pekny-zrek...             0   \n",
       "\n",
       "     NumberOfRooms     Price      Street                       _id  LastPrice  \n",
       "7                1  [40 635]  Robotnícka  5856c9391d41c812d959e711      40635  \n",
       "165              3  [65 000]      Sotiná  5856c9d01d41c8130782f44e          0  \n",
       "171              4  [54 600]           0  5856c9d01d41c8130782f454          0  \n",
       "174              3  [64 900]      Sotiná  5856c9d01d41c8130782f457          0  "
      ]
     },
     "execution_count": 83,
     "metadata": {},
     "output_type": "execute_result"
    }
   ],
   "source": [
    "df[(df['LivingAreaM2']==0) & (df['NumberOfRooms']>0)]"
   ]
  },
  {
   "cell_type": "code",
   "execution_count": 113,
   "metadata": {
    "collapsed": false
   },
   "outputs": [],
   "source": [
    "df = df[df['LastPrice']!=0]"
   ]
  },
  {
   "cell_type": "code",
   "execution_count": 112,
   "metadata": {
    "collapsed": false
   },
   "outputs": [
    {
     "data": {
      "text/html": [
       "<div>\n",
       "<table border=\"1\" class=\"dataframe\">\n",
       "  <thead>\n",
       "    <tr style=\"text-align: right;\">\n",
       "      <th></th>\n",
       "      <th>Age</th>\n",
       "      <th>City</th>\n",
       "      <th>Id</th>\n",
       "      <th>LandAreaM2</th>\n",
       "      <th>LastUpdate</th>\n",
       "      <th>Link</th>\n",
       "      <th>LivingAreaM2</th>\n",
       "      <th>NumberOfRooms</th>\n",
       "      <th>Price</th>\n",
       "      <th>Street</th>\n",
       "      <th>_id</th>\n",
       "      <th>LastPrice</th>\n",
       "    </tr>\n",
       "  </thead>\n",
       "  <tbody>\n",
       "  </tbody>\n",
       "</table>\n",
       "</div>"
      ],
      "text/plain": [
       "Empty DataFrame\n",
       "Columns: [Age, City, Id, LandAreaM2, LastUpdate, Link, LivingAreaM2, NumberOfRooms, Price, Street, _id, LastPrice]\n",
       "Index: []"
      ]
     },
     "execution_count": 112,
     "metadata": {},
     "output_type": "execute_result"
    }
   ],
   "source": [
    "df_new[df_new['LastPrice']==0]"
   ]
  },
  {
   "cell_type": "code",
   "execution_count": null,
   "metadata": {
    "collapsed": true
   },
   "outputs": [],
   "source": []
  }
 ],
 "metadata": {
  "kernelspec": {
   "display_name": "Python 3",
   "language": "python",
   "name": "python3"
  },
  "language_info": {
   "codemirror_mode": {
    "name": "ipython",
    "version": 3
   },
   "file_extension": ".py",
   "mimetype": "text/x-python",
   "name": "python",
   "nbconvert_exporter": "python",
   "pygments_lexer": "ipython3",
   "version": "3.5.1"
  }
 },
 "nbformat": 4,
 "nbformat_minor": 0
}
